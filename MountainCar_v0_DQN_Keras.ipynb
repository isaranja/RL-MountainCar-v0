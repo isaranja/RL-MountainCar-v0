{
  "nbformat": 4,
  "nbformat_minor": 0,
  "metadata": {
    "colab": {
      "name": "MountainCar-v0_DQN_Keras.ipynb",
      "version": "0.3.2",
      "provenance": [],
      "collapsed_sections": [],
      "include_colab_link": true
    },
    "kernelspec": {
      "name": "python3",
      "display_name": "Python 3"
    },
    "accelerator": "GPU"
  },
  "cells": [
    {
      "cell_type": "markdown",
      "metadata": {
        "id": "view-in-github",
        "colab_type": "text"
      },
      "source": [
        "<a href=\"https://colab.research.google.com/github/isaranja/RL-MountainCar-v0/blob/master/MountainCar_v0_DQN_Keras.ipynb\" target=\"_parent\"><img src=\"https://colab.research.google.com/assets/colab-badge.svg\" alt=\"Open In Colab\"/></a>"
      ]
    },
    {
      "cell_type": "markdown",
      "metadata": {
        "id": "Wtg8Ht6tPyHC",
        "colab_type": "text"
      },
      "source": [
        "# Deep Q-Learning with Keras for MountainCar-v0"
      ]
    },
    {
      "cell_type": "markdown",
      "metadata": {
        "id": "TJp_cOx9Qenb",
        "colab_type": "text"
      },
      "source": [
        "This notebooks tries to solve the CartPole-V1 problem using deep q-learning by using only the observation space\n",
        "\n",
        "[Reference](https://towardsdatascience.com/cartpole-introduction-to-reinforcement-learning-ed0eb5b58288)"
      ]
    },
    {
      "cell_type": "code",
      "metadata": {
        "id": "n2Atpdh53BNB",
        "colab_type": "code",
        "outputId": "cc320615-f8aa-4128-a8cf-fabf822b69f1",
        "colab": {
          "base_uri": "https://localhost:8080/",
          "height": 34
        }
      },
      "source": [
        "# imporing required libraries\n",
        "\n",
        "# -*- coding: utf-8 -*-\n",
        "import random\n",
        "import numpy as np\n",
        "\n",
        "from collections import deque\n",
        "\n",
        "from keras.models import Sequential\n",
        "from keras.layers import Dense, Dropout\n",
        "from keras.optimizers import Adam"
      ],
      "execution_count": 1,
      "outputs": [
        {
          "output_type": "stream",
          "text": [
            "Using TensorFlow backend.\n"
          ],
          "name": "stderr"
        }
      ]
    },
    {
      "cell_type": "markdown",
      "metadata": {
        "id": "lPJswEhLRQKK",
        "colab_type": "text"
      },
      "source": [
        "Rendering the envioronment is  a tricky task in colab. So It is required to install and import following libraries\n",
        "\n",
        "[Reference](https://star-ai.github.io/Rendering-OpenAi-Gym-in-Colaboratory/)"
      ]
    },
    {
      "cell_type": "code",
      "metadata": {
        "id": "k_n_I0g_F5mY",
        "colab_type": "code",
        "colab": {}
      },
      "source": [
        "# installing required libraries\n",
        "!pip install gym pyvirtualdisplay > /dev/null 2>&1\n",
        "!apt-get install -y xvfb python-opengl ffmpeg > /dev/null 2>&1"
      ],
      "execution_count": 0,
      "outputs": []
    },
    {
      "cell_type": "code",
      "metadata": {
        "id": "gl4O_qnUF8iU",
        "colab_type": "code",
        "colab": {}
      },
      "source": [
        "# imporing gym and relevant libraries to render\n",
        "import gym\n",
        "from gym import logger as gymlogger\n",
        "from gym.wrappers import Monitor\n",
        "gymlogger.set_level(40) #error only\n",
        "\n",
        "import matplotlib\n",
        "import matplotlib.pyplot as plt\n",
        "%matplotlib inline\n",
        "import math\n",
        "import glob\n",
        "import io\n",
        "\n",
        "import os\n",
        "\n",
        "import base64\n",
        "from IPython.display import HTML\n",
        "\n",
        "from IPython import display as ipythondisplay"
      ],
      "execution_count": 0,
      "outputs": []
    },
    {
      "cell_type": "code",
      "metadata": {
        "id": "9UCtQ1b6GKhe",
        "colab_type": "code",
        "outputId": "6bc1f223-390b-45ce-9ef9-b6fd8eaf8c2e",
        "colab": {
          "base_uri": "https://localhost:8080/",
          "height": 88
        }
      },
      "source": [
        "# starting the virtual display\n",
        "from pyvirtualdisplay import Display\n",
        "display = Display(visible=0, size=(1400, 900))\n",
        "display.start()"
      ],
      "execution_count": 4,
      "outputs": [
        {
          "output_type": "stream",
          "text": [
            "WARNING: Logging before flag parsing goes to stderr.\n",
            "W0621 08:09:41.833832 140343124035456 abstractdisplay.py:144] xdpyinfo was not found, X start can not be checked! Please install xdpyinfo!\n"
          ],
          "name": "stderr"
        },
        {
          "output_type": "execute_result",
          "data": {
            "text/plain": [
              "<Display cmd_param=['Xvfb', '-br', '-nolisten', 'tcp', '-screen', '0', '1400x900x24', ':1001'] cmd=['Xvfb', '-br', '-nolisten', 'tcp', '-screen', '0', '1400x900x24', ':1001'] oserror=None return_code=None stdout=\"None\" stderr=\"None\" timeout_happened=False>"
            ]
          },
          "metadata": {
            "tags": []
          },
          "execution_count": 4
        }
      ]
    },
    {
      "cell_type": "code",
      "metadata": {
        "id": "41Rmw8fZGOVK",
        "colab_type": "code",
        "colab": {}
      },
      "source": [
        "\"\"\"\n",
        "Utility functions to enable video recording of gym environment and displaying it\n",
        "To enable video, just do \"env = wrap_env(env)\"\"\n",
        "\"\"\"\n",
        "def show_video(id):\n",
        "  mp4list = glob.glob('video/*.mp4')\n",
        "  print('no of vedios saved : ', len(mp4list))\n",
        "  if len(mp4list) > 0:\n",
        "    #file_size = 0\n",
        "    #for mp4file in mp4list:\n",
        "    #  s = os.path.getsize(mp4file)\n",
        "    #  if (s > file_size):\n",
        "    #    file_size = s\n",
        "    #    mp4 = mp4file\n",
        "    mp4 = mp4list[id]\n",
        "    video = io.open(mp4, 'r+b').read()\n",
        "    encoded = base64.b64encode(video)\n",
        "    ipythondisplay.display(HTML(data='''<video alt=\"Cartpole-v1\" controls \n",
        "                style=\"height: 400px;\">\n",
        "                <source src=\"data:video/mp4;base64,{0}\" type=\"video/mp4\" />\n",
        "             </video>'''.format(encoded.decode('ascii'))))\n",
        "  else: \n",
        "    print(\"Could not find video\")\n",
        "    \n",
        "\n",
        "def wrap_env(env):\n",
        "  env = Monitor(env, './video', force=True)\n",
        "  return env"
      ],
      "execution_count": 0,
      "outputs": []
    },
    {
      "cell_type": "markdown",
      "metadata": {
        "id": "Fof-9nmhW94O",
        "colab_type": "text"
      },
      "source": [
        "## Random play"
      ]
    },
    {
      "cell_type": "code",
      "metadata": {
        "id": "BT2iCBJmXFM_",
        "colab_type": "code",
        "colab": {}
      },
      "source": [
        "def play_a_random_game_first(env_name,steps):\n",
        "  env = wrap_env(gym.make(env_name))\n",
        "  env.reset()\n",
        "  for step_index in range(steps):\n",
        "      env.render()\n",
        "      action = env.action_space.sample()\n",
        "      observation, reward, done, info = env.step(action)\n",
        "      print(\"Step {}:\".format(step_index))\n",
        "      print(\"action: {}\".format(action))\n",
        "      print(\"observation: {}\".format(observation))\n",
        "      print(\"reward: {}\".format(reward))\n",
        "      print(\"done: {}\".format(done))\n",
        "      print(\"info: {}\".format(info))\n",
        "      if done:\n",
        "          break\n",
        "  env.close()"
      ],
      "execution_count": 0,
      "outputs": []
    },
    {
      "cell_type": "code",
      "metadata": {
        "id": "2FkpHdeAXP-P",
        "colab_type": "code",
        "colab": {
          "base_uri": "https://localhost:8080/",
          "height": 221
        },
        "outputId": "cb8246d8-6dca-43d7-cefd-63d010d6459f"
      },
      "source": [
        "play_a_random_game_first('MountainCar-v0',2)"
      ],
      "execution_count": 7,
      "outputs": [
        {
          "output_type": "stream",
          "text": [
            "Step 0:\n",
            "action: 0\n",
            "observation: [-0.42266793 -0.00175804]\n",
            "reward: -1.0\n",
            "done: False\n",
            "info: {}\n",
            "Step 1:\n",
            "action: 1\n",
            "observation: [-0.42517144 -0.00250351]\n",
            "reward: -1.0\n",
            "done: False\n",
            "info: {}\n"
          ],
          "name": "stdout"
        }
      ]
    },
    {
      "cell_type": "markdown",
      "metadata": {
        "id": "E96Qfg1mSXbA",
        "colab_type": "text"
      },
      "source": [
        "## Creating the AI agent\n",
        "\n",
        "\n",
        "*   **brain :** This part present the brain of AI agent. Simple Keras model is implemented hear\n",
        "*   **remember :** The memory of the agent. This help to train the agent using experiance replay\n",
        "*   **act :** action selection mechanism of the agent. epsilon greedy search method is used\n",
        "*   **get_batch :** selecting mini batch for training \n",
        "*   **learn :** learning using the past experiance\n",
        "\n",
        "\n"
      ]
    },
    {
      "cell_type": "code",
      "metadata": {
        "id": "eoMVBs8bjs_M",
        "colab_type": "code",
        "colab": {}
      },
      "source": [
        "class DQNAgent():\n",
        "  \n",
        "  def __init__(self, observation_space, action_size, max_memory=2000, gamma = 0.95, epsilon = 0.9, epsilon_min = 0.01,epsilon_decay=0.99,learning_rate=0.0001):\n",
        "\n",
        "    self.observation_space = observation_space\n",
        "    self.action_size = action_size\n",
        "    self.memory = deque(maxlen=max_memory)\n",
        "    self.gamma = gamma    # discount rate\n",
        "    self.epsilon = epsilon # exploration rate\n",
        "    self.epsilon_min = epsilon_min\n",
        "    self.epsilon_decay = epsilon_decay\n",
        "    self.learning_rate = 0.001\n",
        "    self.model = self.brain()\n",
        "\n",
        "  def brain(self):\n",
        "\n",
        "    model = Sequential()\n",
        "    model.add(Dense(128, input_dim=self.observation_space, activation='relu'))\n",
        "    model.add(Dense(64, activation='relu'))\n",
        "    model.add(Dense(self.action_size, activation='linear'))\n",
        "\n",
        "    model.compile(loss='mse',optimizer=Adam(lr=self.learning_rate))\n",
        "    return model\n",
        "\n",
        "  def remember(self, current_state, action, reward, next_state, done):\n",
        "    self.memory.append((current_state, action, reward, next_state, done))\n",
        "\n",
        "  def act(self, state):\n",
        "    if np.random.rand() <= self.epsilon:\n",
        "        return random.randrange(self.action_size)\n",
        "    act_values = self.model.predict(state)\n",
        "    return np.argmax(act_values[0])  # returns action\n",
        "\n",
        "  def get_batch(self, batch_size = 32):\n",
        "    minibatch = random.sample(self.memory, batch_size)\n",
        "\n",
        "    inputs  = np.zeros((min(len(self.memory), batch_size), self.observation_space))\n",
        "    targets = np.zeros((min(len(self.memory), batch_size), self.action_size))\n",
        "\n",
        "    for i,(current_state, action, reward, next_state, game_over) in enumerate(minibatch):\n",
        "        inputs[i]  = current_state\n",
        "        targets[i] = self.model.predict(current_state)[0]\n",
        "        if game_over:\n",
        "          targets[i,action] = reward\n",
        "        else:\n",
        "          targets[i,action] = (reward + self.gamma * np.amax(self.model.predict(next_state)[0]))\n",
        "    return inputs, targets\n",
        "\n",
        "  def learn(self, batch_size):\n",
        "    inputs, targets = self.get_batch(batch_size)\n",
        "    self.model.train_on_batch(inputs, targets)\n",
        "    if self.epsilon > self.epsilon_min:\n",
        "       self.epsilon *= self.epsilon_decay\n",
        "\n",
        "  def load(self, name):\n",
        "    self.model.load_weights(name)\n",
        "\n",
        "  def save(self, name):\n",
        "    self.model.save_weights(name)\n"
      ],
      "execution_count": 0,
      "outputs": []
    },
    {
      "cell_type": "markdown",
      "metadata": {
        "id": "q5NPC6ysWtaB",
        "colab_type": "text"
      },
      "source": [
        "## Training"
      ]
    },
    {
      "cell_type": "code",
      "metadata": {
        "id": "DYK8LEgU2mFM",
        "colab_type": "code",
        "outputId": "34f5d327-1c05-4ecb-dc57-b78378f014ac",
        "colab": {
          "base_uri": "https://localhost:8080/",
          "height": 1717
        }
      },
      "source": [
        "#env.close()\n",
        "\n",
        "epochs = 100\n",
        "batch_size = 32\n",
        "max_memory = 3000\n",
        "epsilon_decay = 0.9995\n",
        "learning_rate = 0.001\n",
        "max_position = -1.2\n",
        "\n",
        "env = wrap_env(gym.make('MountainCar-v0'))\n",
        "observation_space = env.observation_space.shape[0]\n",
        "action_size = env.action_space.n\n",
        "\n",
        "agent = DQNAgent(observation_space, action_size,max_memory=max_memory,epsilon_decay=epsilon_decay,learning_rate=learning_rate)\n",
        "last_time_step = 0\n",
        "#agent.load(\"MountainCar-v0.h5\")\n",
        "\n",
        "for epoch in range(epochs):\n",
        "  current_state = env.reset()\n",
        "  current_state = np.reshape(current_state, [1, observation_space])\n",
        "  game_over = False\n",
        "  episode = 0\n",
        "  max_position = -1.2\n",
        "  \n",
        "  total_reward = 0\n",
        "  \n",
        "  while (not game_over):\n",
        "    \n",
        "    env.render()\n",
        "    \n",
        "    action = agent.act(current_state)\n",
        "    \n",
        "    next_state, reward, game_over, _ = env.step(action)\n",
        "    \n",
        "    next_state = np.reshape(next_state, [1, observation_space])\n",
        "    \n",
        "    reward = np.abs(next_state[0][0] - current_state[0][0]) - 0.1\n",
        "    \n",
        "    if next_state[0][0] >= 0.5:\n",
        "      reward += 20\n",
        "      \n",
        "    total_reward += reward\n",
        "    \n",
        "    if (max_position < next_state[0][0]):\n",
        "      max_position = next_state[0][0]\n",
        "    \n",
        "    agent.remember(current_state, action, reward, next_state, game_over)\n",
        "    \n",
        "    current_state = next_state\n",
        "    \n",
        "    episode += 1\n",
        "    \n",
        "    if game_over:\n",
        "        print(\"epoch: {}/{}, episodes: {}, tatal_reward: {:.2f}, max_position: {:.2}, e: {:.2}\"\n",
        "              .format(epoch, epochs, episode, total_reward, max_position, agent.epsilon))\n",
        "        break\n",
        "        \n",
        "    if len(agent.memory) > batch_size:\n",
        "        agent.learn(batch_size)\n",
        "\n",
        "env.close()"
      ],
      "execution_count": 21,
      "outputs": [
        {
          "output_type": "stream",
          "text": [
            "epoch: 0/100, episodes: 200, tatal_reward: -18.21, max_position: -0.3, e: 0.83\n",
            "epoch: 1/100, episodes: 200, tatal_reward: -18.88, max_position: -0.34, e: 0.75\n",
            "epoch: 2/100, episodes: 200, tatal_reward: -19.49, max_position: -0.43, e: 0.68\n",
            "epoch: 3/100, episodes: 200, tatal_reward: -18.69, max_position: -0.29, e: 0.61\n",
            "epoch: 4/100, episodes: 200, tatal_reward: -19.17, max_position: -0.38, e: 0.56\n",
            "epoch: 5/100, episodes: 200, tatal_reward: -18.32, max_position: -0.24, e: 0.5\n",
            "epoch: 6/100, episodes: 200, tatal_reward: -18.67, max_position: -0.32, e: 0.46\n",
            "epoch: 7/100, episodes: 200, tatal_reward: -19.17, max_position: -0.37, e: 0.41\n",
            "epoch: 8/100, episodes: 200, tatal_reward: -18.48, max_position: -0.33, e: 0.37\n",
            "epoch: 9/100, episodes: 200, tatal_reward: -18.48, max_position: -0.3, e: 0.34\n",
            "epoch: 10/100, episodes: 200, tatal_reward: -19.01, max_position: -0.41, e: 0.31\n",
            "epoch: 11/100, episodes: 200, tatal_reward: -18.38, max_position: -0.32, e: 0.28\n",
            "epoch: 12/100, episodes: 200, tatal_reward: -19.30, max_position: -0.4, e: 0.25\n",
            "epoch: 13/100, episodes: 200, tatal_reward: -18.60, max_position: -0.27, e: 0.23\n",
            "epoch: 14/100, episodes: 200, tatal_reward: -19.06, max_position: -0.34, e: 0.21\n",
            "epoch: 15/100, episodes: 200, tatal_reward: -18.47, max_position: -0.34, e: 0.19\n",
            "epoch: 16/100, episodes: 200, tatal_reward: -17.73, max_position: -0.2, e: 0.17\n",
            "epoch: 17/100, episodes: 200, tatal_reward: -18.22, max_position: -0.34, e: 0.15\n",
            "epoch: 18/100, episodes: 200, tatal_reward: -18.16, max_position: -0.23, e: 0.14\n",
            "epoch: 19/100, episodes: 200, tatal_reward: -18.01, max_position: -0.12, e: 0.12\n",
            "epoch: 20/100, episodes: 200, tatal_reward: -18.90, max_position: -0.41, e: 0.11\n",
            "epoch: 21/100, episodes: 200, tatal_reward: -17.93, max_position: -0.26, e: 0.1\n",
            "epoch: 22/100, episodes: 200, tatal_reward: -18.36, max_position: -0.34, e: 0.093\n",
            "epoch: 23/100, episodes: 200, tatal_reward: -17.29, max_position: -0.2, e: 0.084\n",
            "epoch: 24/100, episodes: 200, tatal_reward: -17.90, max_position: -0.15, e: 0.076\n",
            "epoch: 25/100, episodes: 200, tatal_reward: -18.34, max_position: -0.25, e: 0.069\n",
            "epoch: 26/100, episodes: 200, tatal_reward: -18.98, max_position: -0.36, e: 0.062\n",
            "epoch: 27/100, episodes: 200, tatal_reward: -18.03, max_position: -0.36, e: 0.056\n",
            "epoch: 28/100, episodes: 200, tatal_reward: -19.13, max_position: -0.4, e: 0.051\n",
            "epoch: 29/100, episodes: 200, tatal_reward: -18.27, max_position: -0.33, e: 0.046\n",
            "epoch: 30/100, episodes: 200, tatal_reward: -18.17, max_position: -0.15, e: 0.042\n",
            "epoch: 31/100, episodes: 200, tatal_reward: -18.93, max_position: -0.41, e: 0.038\n",
            "epoch: 32/100, episodes: 200, tatal_reward: -18.77, max_position: -0.31, e: 0.034\n",
            "epoch: 33/100, episodes: 200, tatal_reward: -18.56, max_position: -0.34, e: 0.031\n",
            "epoch: 34/100, episodes: 200, tatal_reward: -18.62, max_position: -0.28, e: 0.028\n",
            "epoch: 35/100, episodes: 200, tatal_reward: -17.87, max_position: -0.22, e: 0.025\n",
            "epoch: 36/100, episodes: 200, tatal_reward: -18.74, max_position: -0.37, e: 0.023\n",
            "epoch: 37/100, episodes: 200, tatal_reward: -17.76, max_position: -0.27, e: 0.021\n",
            "epoch: 38/100, episodes: 200, tatal_reward: -17.95, max_position: -0.28, e: 0.019\n",
            "epoch: 39/100, episodes: 200, tatal_reward: -19.16, max_position: -0.42, e: 0.017\n",
            "epoch: 40/100, episodes: 200, tatal_reward: -17.28, max_position: -0.22, e: 0.015\n",
            "epoch: 41/100, episodes: 200, tatal_reward: -18.37, max_position: -0.26, e: 0.014\n",
            "epoch: 42/100, episodes: 200, tatal_reward: -18.40, max_position: -0.36, e: 0.013\n",
            "epoch: 43/100, episodes: 200, tatal_reward: -16.23, max_position: -0.063, e: 0.011\n",
            "epoch: 44/100, episodes: 200, tatal_reward: -18.18, max_position: -0.3, e: 0.01\n",
            "epoch: 45/100, episodes: 200, tatal_reward: -18.70, max_position: -0.39, e: 0.01\n",
            "epoch: 46/100, episodes: 200, tatal_reward: -16.62, max_position: 0.024, e: 0.01\n",
            "epoch: 47/100, episodes: 200, tatal_reward: -18.33, max_position: -0.24, e: 0.01\n",
            "epoch: 48/100, episodes: 200, tatal_reward: -17.99, max_position: -0.19, e: 0.01\n",
            "epoch: 49/100, episodes: 200, tatal_reward: -17.63, max_position: -0.22, e: 0.01\n",
            "epoch: 50/100, episodes: 200, tatal_reward: -17.30, max_position: -0.19, e: 0.01\n",
            "epoch: 51/100, episodes: 200, tatal_reward: -17.99, max_position: -0.28, e: 0.01\n",
            "epoch: 52/100, episodes: 200, tatal_reward: -17.10, max_position: -0.13, e: 0.01\n",
            "epoch: 53/100, episodes: 200, tatal_reward: -18.17, max_position: -0.25, e: 0.01\n",
            "epoch: 54/100, episodes: 200, tatal_reward: -17.37, max_position: -0.2, e: 0.01\n",
            "epoch: 55/100, episodes: 200, tatal_reward: -14.83, max_position: 0.24, e: 0.01\n",
            "epoch: 56/100, episodes: 170, tatal_reward: 7.30, max_position: 0.53, e: 0.01\n",
            "epoch: 57/100, episodes: 200, tatal_reward: -16.90, max_position: 0.11, e: 0.01\n",
            "epoch: 58/100, episodes: 158, tatal_reward: 6.76, max_position: 0.51, e: 0.01\n",
            "epoch: 59/100, episodes: 200, tatal_reward: -17.40, max_position: -0.052, e: 0.01\n",
            "epoch: 60/100, episodes: 200, tatal_reward: -18.73, max_position: -0.36, e: 0.01\n",
            "epoch: 61/100, episodes: 200, tatal_reward: -15.79, max_position: 0.17, e: 0.01\n",
            "epoch: 62/100, episodes: 155, tatal_reward: 8.51, max_position: 0.53, e: 0.01\n",
            "epoch: 63/100, episodes: 161, tatal_reward: 7.66, max_position: 0.5, e: 0.01\n",
            "epoch: 64/100, episodes: 150, tatal_reward: 8.75, max_position: 0.51, e: 0.01\n",
            "epoch: 65/100, episodes: 200, tatal_reward: -17.26, max_position: -0.024, e: 0.01\n",
            "epoch: 66/100, episodes: 195, tatal_reward: 4.79, max_position: 0.51, e: 0.01\n",
            "epoch: 67/100, episodes: 200, tatal_reward: -16.09, max_position: 0.15, e: 0.01\n",
            "epoch: 68/100, episodes: 167, tatal_reward: 7.80, max_position: 0.51, e: 0.01\n",
            "epoch: 69/100, episodes: 170, tatal_reward: 7.54, max_position: 0.5, e: 0.01\n",
            "epoch: 70/100, episodes: 156, tatal_reward: 8.56, max_position: 0.53, e: 0.01\n",
            "epoch: 71/100, episodes: 167, tatal_reward: 7.94, max_position: 0.52, e: 0.01\n",
            "epoch: 72/100, episodes: 200, tatal_reward: -15.90, max_position: 0.31, e: 0.01\n",
            "epoch: 73/100, episodes: 121, tatal_reward: 10.56, max_position: 0.52, e: 0.01\n",
            "epoch: 74/100, episodes: 158, tatal_reward: 7.81, max_position: 0.51, e: 0.01\n",
            "epoch: 75/100, episodes: 144, tatal_reward: 9.28, max_position: 0.52, e: 0.01\n",
            "epoch: 76/100, episodes: 165, tatal_reward: 6.67, max_position: 0.5, e: 0.01\n",
            "epoch: 77/100, episodes: 140, tatal_reward: 8.08, max_position: 0.5, e: 0.01\n",
            "epoch: 78/100, episodes: 147, tatal_reward: 9.49, max_position: 0.51, e: 0.01\n",
            "epoch: 79/100, episodes: 147, tatal_reward: 8.81, max_position: 0.52, e: 0.01\n",
            "epoch: 80/100, episodes: 150, tatal_reward: 9.31, max_position: 0.53, e: 0.01\n",
            "epoch: 81/100, episodes: 137, tatal_reward: 10.19, max_position: 0.51, e: 0.01\n",
            "epoch: 82/100, episodes: 200, tatal_reward: 5.05, max_position: 0.53, e: 0.01\n",
            "epoch: 83/100, episodes: 151, tatal_reward: 8.75, max_position: 0.53, e: 0.01\n",
            "epoch: 84/100, episodes: 179, tatal_reward: 5.60, max_position: 0.52, e: 0.01\n",
            "epoch: 85/100, episodes: 144, tatal_reward: 9.81, max_position: 0.52, e: 0.01\n",
            "epoch: 86/100, episodes: 142, tatal_reward: 8.83, max_position: 0.51, e: 0.01\n",
            "epoch: 87/100, episodes: 122, tatal_reward: 9.81, max_position: 0.51, e: 0.01\n",
            "epoch: 88/100, episodes: 167, tatal_reward: 7.58, max_position: 0.53, e: 0.01\n",
            "epoch: 89/100, episodes: 138, tatal_reward: 9.88, max_position: 0.5, e: 0.01\n",
            "epoch: 90/100, episodes: 150, tatal_reward: 8.99, max_position: 0.52, e: 0.01\n",
            "epoch: 91/100, episodes: 102, tatal_reward: 11.60, max_position: 0.5, e: 0.01\n",
            "epoch: 92/100, episodes: 145, tatal_reward: 8.22, max_position: 0.51, e: 0.01\n",
            "epoch: 93/100, episodes: 147, tatal_reward: 7.76, max_position: 0.5, e: 0.01\n",
            "epoch: 94/100, episodes: 129, tatal_reward: 10.43, max_position: 0.53, e: 0.01\n",
            "epoch: 95/100, episodes: 198, tatal_reward: 4.85, max_position: 0.52, e: 0.01\n",
            "epoch: 96/100, episodes: 177, tatal_reward: 6.51, max_position: 0.5, e: 0.01\n",
            "epoch: 97/100, episodes: 88, tatal_reward: 13.13, max_position: 0.51, e: 0.01\n",
            "epoch: 98/100, episodes: 132, tatal_reward: 9.46, max_position: 0.5, e: 0.01\n",
            "epoch: 99/100, episodes: 181, tatal_reward: 6.62, max_position: 0.51, e: 0.01\n"
          ],
          "name": "stdout"
        }
      ]
    },
    {
      "cell_type": "code",
      "metadata": {
        "id": "VRtHgKc03KOS",
        "colab_type": "code",
        "outputId": "a1d74523-07f0-47cb-d9bb-a01a5e5e0736",
        "colab": {
          "base_uri": "https://localhost:8080/",
          "height": 438
        }
      },
      "source": [
        "show_video(3)"
      ],
      "execution_count": 27,
      "outputs": [
        {
          "output_type": "stream",
          "text": [
            "no of vedios saved :  5\n"
          ],
          "name": "stdout"
        },
        {
          "output_type": "display_data",
          "data": {
            "text/html": [
              "<video alt=\"Cartpole-v1\" controls \n",
              "                style=\"height: 400px;\">\n",
              "                <source src=\"data:video/mp4;base64,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\" type=\"video/mp4\" />\n",
              "             </video>"
            ],
            "text/plain": [
              "<IPython.core.display.HTML object>"
            ]
          },
          "metadata": {
            "tags": []
          }
        }
      ]
    },
    {
      "cell_type": "code",
      "metadata": {
        "id": "Hn_o3jGqDxT8",
        "colab_type": "code",
        "colab": {}
      },
      "source": [
        ""
      ],
      "execution_count": 0,
      "outputs": []
    }
  ]
}